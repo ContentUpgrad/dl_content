{
 "cells": [
  {
   "cell_type": "markdown",
   "metadata": {},
   "source": [
    "# Text generation using RNN - Character Level\n",
    "\n",
    "To generate text using RNN, we need a to convert raw text to a supervised learning problem format.\n",
    "\n",
    "Take, for example, the following corpus:\n",
    "\n",
    "\"Her brother shook his head incredulously\"\n",
    "\n",
    "First we need to divide the data into tabular format containing input (X) and output (y) sequences. In case of a character level model, the X and y will look like this:\n",
    "\n",
    "|      X     |  Y  |\n",
    "|------------|-----|\n",
    "|    Her b   |  r  |\n",
    "|    er br   |  o  |\n",
    "|    r bro   |  t  |\n",
    "|     brot   |  h  |\n",
    "|    broth   |  e  |\n",
    "|    .....   |  .  |\n",
    "|    .....   |  .  |\n",
    "|    ulous   |  l  |\n",
    "|    lousl   |  y  |\n",
    "\n",
    "Note that in the above problem, the sequence length of X is five characters and that of y is one character. Hence, this is a many-to-one architecture. We can, however, change the number of input characters to any number of characters depending on the type of problem.\n",
    "\n",
    "A model is trained on such data. To generate text, we simply give the model any five characters using which it predicts the next character. Then it appends the predicted character to the input sequence (on the extreme right of the sequence) and discards the first character (character on extreme left of the sequence). Then it predicts again using the new sequence and the cycle continues until a fix number of iterations. An example is shown below:\n",
    "\n",
    "Seed text: \"incre\"\n",
    "\n",
    "|      X                                            |  Y                       |\n",
    "|---------------------------------------------------|--------------------------|\n",
    "|                        incre                      |    < predicted char 1 >  |\n",
    "|               ncre < predicted char 1 >              |    < predicted char 2 >  |\n",
    "|       cre< predicted char 1 > < predicted char 2 >   |    < predicted char 3 >  |\n",
    "|       re< predicted char 1 >< predicted char 2 > < predicted char 3 >   |    < predicted char 4 >  |\n",
    "|                      ...                          |            ...           |"
   ]
  },
  {
   "cell_type": "markdown",
   "metadata": {},
   "source": [
    "# Notebook Overview\n",
    "1. Preprocess data\n",
    "2. LSTM model\n",
    "3. Generate code"
   ]
  },
  {
   "cell_type": "code",
   "execution_count": 1,
   "metadata": {
    "colab": {
     "base_uri": "https://localhost:8080/",
     "height": 34
    },
    "colab_type": "code",
    "id": "4Sa28LJ6YqdD",
    "outputId": "ae782caf-f9d1-43fe-aa32-4f2ccf02cfe0"
   },
   "outputs": [],
   "source": [
    "# import libraries\n",
    "import warnings\n",
    "warnings.filterwarnings(\"ignore\")\n",
    "\n",
    "import os\n",
    "import re\n",
    "import numpy as np\n",
    "import random\n",
    "import sys\n",
    "import io\n",
    "from tensorflow.keras import Sequential\n",
    "from tensorflow.keras.layers import Dense, Activation, LSTM\n",
    "from tensorflow.keras.optimizers import Adam\n",
    "from tensorflow.keras.utils import get_file"
   ]
  },
  {
   "cell_type": "markdown",
   "metadata": {},
   "source": [
    "# 1. Preprocess data"
   ]
  },
  {
   "cell_type": "markdown",
   "metadata": {},
   "source": [
    "We're going to build a C code generator by training an RNN on a huge corpus of C code (the linux kernel code). You can download the C code used as source text from the following link:\n",
    "https://github.com/torvalds/linux/tree/master/kernel\n",
    "\n",
    "We have already downloaded the entire kernel folder and stored in a local directory"
   ]
  },
  {
   "cell_type": "markdown",
   "metadata": {},
   "source": [
    "## Load C code"
   ]
  },
  {
   "cell_type": "code",
   "execution_count": 6,
   "metadata": {
    "colab": {
     "base_uri": "https://localhost:8080/",
     "height": 231
    },
    "colab_type": "code",
    "id": "hO1StR3rX72I",
    "outputId": "42079a21-0a71-4fba-c90a-b13e3acbb909"
   },
   "outputs": [
    {
     "name": "stdout",
     "output_type": "stream",
     "text": [
      "['.gitignore', 'acct.c', 'async.c', 'audit.c', 'audit.h', 'audit_fsnotify.c', 'audit_tree.c', 'audit_watch.c', 'auditfilter.c', 'auditsc.c', 'backtracetest.c', 'bounds.c', 'bpf', 'capability.c', 'cgroup', 'compat.c', 'configs.c', 'configs', 'context_tracking.c', 'cpu.c', 'cpu_pm.c', 'crash_core.c', 'crash_dump.c', 'cred.c', 'debug', 'delayacct.c', 'dma.c', 'dma', 'entry', 'events', 'exec_domain.c', 'exit.c', 'extable.c', 'fail_function.c', 'fork.c', 'freezer.c', 'futex.c', 'gcov', 'gen_kheaders.sh', 'groups.c', 'hung_task.c', 'iomem.c', 'irq', 'irq_work.c', 'jump_label.c', 'kallsyms.c', 'kcmp.c', 'Kconfig.freezer', 'Kconfig.hz', 'Kconfig.locks', 'Kconfig.preempt', 'kcov.c', 'kcsan', 'kexec.c', 'kexec_core.c', 'kexec_elf.c', 'kexec_file.c', 'kexec_internal.h', 'kheaders.c', 'kmod.c', 'kprobes.c', 'ksysfs.c', 'kthread.c', 'latencytop.c', 'livepatch', 'locking', 'Makefile', 'module.c', 'module_signature.c', 'module_signing.c', 'module-internal.h', 'notifier.c', 'nsproxy.c', 'padata.c', 'panic.c', 'params.c', 'pid.c', 'pid_namespace.c', 'power', 'printk', 'profile.c', 'ptrace.c', 'range.c', 'rcu', 'reboot.c', 'regset.c', 'relay.c', 'resource.c', 'resource_kunit.c', 'rseq.c', 'scftorture.c', 'sched', 'scs.c', 'seccomp.c', 'signal.c', 'smp.c', 'smpboot.c', 'smpboot.h', 'softirq.c', 'stackleak.c', 'stacktrace.c', 'static_call.c', 'stop_machine.c', 'sys.c', 'sys_ni.c', 'sysctl.c', 'sysctl-test.c', 'task_work.c', 'taskstats.c', 'test_kprobes.c', 'time', 'torture.c', 'trace', 'tracepoint.c', 'tsacct.c', 'ucount.c', 'uid16.c', 'uid16.h', 'umh.c', 'up.c', 'user.c', 'user_namespace.c', 'usermode_driver.c', 'user-return-notifier.c', 'utsname.c', 'utsname_sysctl.c', 'watch_queue.c', 'watchdog.c', 'watchdog_hld.c', 'workqueue.c', 'workqueue_internal.h']\n"
     ]
    }
   ],
   "source": [
    "# set path where C files reside\n",
    "# Downlaoded and saved in following path\n",
    "path = \"/home/datasets/kernel\"\n",
    "\n",
    "os.chdir(path)\n",
    "\n",
    "file_names = os.listdir()\n",
    "print(file_names)"
   ]
  },
  {
   "cell_type": "code",
   "execution_count": 7,
   "metadata": {
    "colab": {
     "base_uri": "https://localhost:8080/",
     "height": 54
    },
    "colab_type": "code",
    "id": "jg9HW8HwYlga",
    "outputId": "851307c1-b3f1-4fc6-c191-76962a66052b"
   },
   "outputs": [
    {
     "name": "stdout",
     "output_type": "stream",
     "text": [
      "['acct.c', 'async.c', 'audit.c', 'audit_fsnotify.c', 'audit_tree.c', 'audit_watch.c', 'auditfilter.c', 'auditsc.c', 'backtracetest.c', 'bounds.c', 'capability.c', 'compat.c', 'configs.c', 'context_tracking.c', 'cpu.c', 'cpu_pm.c', 'crash_core.c', 'crash_dump.c', 'cred.c', 'delayacct.c', 'dma.c', 'exec_domain.c', 'exit.c', 'extable.c', 'fail_function.c', 'fork.c', 'freezer.c', 'futex.c', 'groups.c', 'hung_task.c', 'iomem.c', 'irq_work.c', 'jump_label.c', 'kallsyms.c', 'kcmp.c', 'kcov.c', 'kexec.c', 'kexec_core.c', 'kexec_elf.c', 'kexec_file.c', 'kheaders.c', 'kmod.c', 'kprobes.c', 'ksysfs.c', 'kthread.c', 'latencytop.c', 'module.c', 'module_signature.c', 'module_signing.c', 'notifier.c', 'nsproxy.c', 'padata.c', 'panic.c', 'params.c', 'pid.c', 'pid_namespace.c', 'profile.c', 'ptrace.c', 'range.c', 'reboot.c', 'regset.c', 'relay.c', 'resource.c', 'resource_kunit.c', 'rseq.c', 'scftorture.c', 'scs.c', 'seccomp.c', 'signal.c', 'smp.c', 'smpboot.c', 'softirq.c', 'stackleak.c', 'stacktrace.c', 'static_call.c', 'stop_machine.c', 'sys.c', 'sys_ni.c', 'sysctl.c', 'sysctl-test.c', 'task_work.c', 'taskstats.c', 'test_kprobes.c', 'torture.c', 'tracepoint.c', 'tsacct.c', 'ucount.c', 'uid16.c', 'umh.c', 'up.c', 'user.c', 'user_namespace.c', 'usermode_driver.c', 'user-return-notifier.c', 'utsname.c', 'utsname_sysctl.c', 'watch_queue.c', 'watchdog.c', 'watchdog_hld.c', 'workqueue.c']\n"
     ]
    }
   ],
   "source": [
    "# use regex to filter .c files\n",
    "import re\n",
    "c_names = \".*\\.c$\"\n",
    "\n",
    "c_files = list()\n",
    "\n",
    "for file in file_names:\n",
    "    if re.match(c_names, file):\n",
    "        c_files.append(file)\n",
    "\n",
    "print(c_files)"
   ]
  },
  {
   "cell_type": "code",
   "execution_count": 8,
   "metadata": {
    "colab": {},
    "colab_type": "code",
    "id": "QAbtuy5ZY87t"
   },
   "outputs": [],
   "source": [
    "# load all c code in a list\n",
    "full_code = list()\n",
    "for file in c_files:\n",
    "    code = open(file, \"r\", encoding='utf-8')\n",
    "    full_code.append(code.read())\n",
    "    code.close()"
   ]
  },
  {
   "cell_type": "code",
   "execution_count": 9,
   "metadata": {},
   "outputs": [
    {
     "name": "stdout",
     "output_type": "stream",
     "text": [
      "// SPDX-License-Identifier: GPL-2.0\n",
      "/*\n",
      " * linux/kernel/dma.c: A DMA channel allocator. Inspired by linux/kernel/irq.c.\n",
      " *\n",
      " * Written by Hennus Bergman, 1992.\n",
      " *\n",
      " * 1994/12/26: Changes by Alex Nash to fix a minor bug in /proc/dma.\n",
      " *   In the previous version the reported device could end up being wrong,\n",
      " *   if a device requested a DMA channel that was already in use.\n",
      " *   [It also happened to remove the sizeof(char *) == sizeof(int)\n",
      " *   assumption introduced because of those /proc/dma patches. -- Hennus]\n",
      " */\n",
      "#include <linux/export.h>\n",
      "#include <linux/kernel.h>\n",
      "#include <linux/errno.h>\n",
      "#include <linux/spinlock.h>\n",
      "#include <linux/string.h>\n",
      "#include <linux/seq_file.h>\n",
      "#include <linux/proc_fs.h>\n",
      "#include <linux/init.h>\n",
      "#include <asm/dma.h>\n",
      "\n",
      "\n",
      "\n",
      "/* A note on resource allocation:\n",
      " *\n",
      " * All drivers needing DMA channels, should allocate and release them\n",
      " * through the public routines `request_dma()' and `free_dma()'.\n",
      " *\n",
      " * In order to avoid problems, all processes should allocate resources in\n",
      " * the same sequence and release them in the reverse order.\n",
      " *\n",
      " * So, when allocating DMAs and IRQs, first allocate the IRQ, then the DMA.\n",
      " * When releasing them, first release the DMA, then release the IRQ.\n",
      " * If you don't, you may cause allocation requests to fail unnecessarily.\n",
      " * This doesn't really matter now, but it will once we get real semaphores\n",
      " * in the kernel.\n",
      " */\n",
      "\n",
      "\n",
      "DEFINE_SPINLOCK(dma_spin_lock);\n",
      "\n",
      "/*\n",
      " *\tIf our port doesn't define this it has no PC like DMA\n",
      " */\n",
      "\n",
      "#ifdef MAX_DMA_CHANNELS\n",
      "\n",
      "\n",
      "/* Channel n is busy iff dma_chan_busy[n].lock != 0.\n",
      " * DMA0 used to be reserved for DRAM refresh, but apparently not any more...\n",
      " * DMA4 is reserved for cascading.\n",
      " */\n",
      "\n",
      "struct dma_chan {\n",
      "\tint  lock;\n",
      "\tconst char *device_id;\n",
      "};\n",
      "\n",
      "static struct dma_chan dma_chan_busy[MAX_DMA_CHANNELS] = {\n",
      "\t[4] = { 1, \"cascade\" },\n",
      "};\n",
      "\n",
      "\n",
      "/**\n",
      " * request_dma - request and reserve a system DMA channel\n",
      " * @dmanr: DMA channel number\n",
      " * @device_id: reserving device ID string, used in /proc/dma\n",
      " */\n",
      "int request_dma(unsigned int dmanr, const char * device_id)\n",
      "{\n",
      "\tif (dmanr >= MAX_DMA_CHANNELS)\n",
      "\t\treturn -EINVAL;\n",
      "\n",
      "\tif (xchg(&dma_chan_busy[dmanr].lock, 1) != 0)\n",
      "\t\treturn -EBUSY;\n",
      "\n",
      "\tdma_chan_busy[dmanr].device_id = device_id;\n",
      "\n",
      "\t/* old flag was 0, now contains 1 to indicate busy */\n",
      "\treturn 0;\n",
      "} /* request_dma */\n",
      "\n",
      "/**\n",
      " * free_dma - free a reserved system DMA channel\n",
      " * @dmanr: DMA channel number\n",
      " */\n",
      "void free_dma(unsigned int dmanr)\n",
      "{\n",
      "\tif (dmanr >= MAX_DMA_CHANNELS) {\n",
      "\t\tprintk(KERN_WARNING \"Trying to free DMA%d\\n\", dmanr);\n",
      "\t\treturn;\n",
      "\t}\n",
      "\n",
      "\tif (xchg(&dma_chan_busy[dmanr].lock, 0) == 0) {\n",
      "\t\tprintk(KERN_WARNING \"Trying to free free DMA%d\\n\", dmanr);\n",
      "\t\treturn;\n",
      "\t}\n",
      "\n",
      "} /* free_dma */\n",
      "\n",
      "#else\n",
      "\n",
      "int request_dma(unsigned int dmanr, const char *device_id)\n",
      "{\n",
      "\treturn -EINVAL;\n",
      "}\n",
      "\n",
      "void free_dma(unsigned int dmanr)\n",
      "{\n",
      "}\n",
      "\n",
      "#endif\n",
      "\n",
      "#ifdef CONFIG_PROC_FS\n",
      "\n",
      "#ifdef MAX_DMA_CHANNELS\n",
      "static int proc_dma_show(struct seq_file *m, void *v)\n",
      "{\n",
      "\tint i;\n",
      "\n",
      "\tfor (i = 0 ; i < MAX_DMA_CHANNELS ; i++) {\n",
      "\t\tif (dma_chan_busy[i].lock) {\n",
      "\t\t\tseq_printf(m, \"%2d: %s\\n\", i,\n",
      "\t\t\t\t   dma_chan_busy[i].device_id);\n",
      "\t\t}\n",
      "\t}\n",
      "\treturn 0;\n",
      "}\n",
      "#else\n",
      "static int proc_dma_show(struct seq_file *m, void *v)\n",
      "{\n",
      "\tseq_puts(m, \"No DMA\\n\");\n",
      "\treturn 0;\n",
      "}\n",
      "#endif /* MAX_DMA_CHANNELS */\n",
      "\n",
      "static int __init proc_dma_init(void)\n",
      "{\n",
      "\tproc_create_single(\"dma\", 0, NULL, proc_dma_show);\n",
      "\treturn 0;\n",
      "}\n",
      "\n",
      "__initcall(proc_dma_init);\n",
      "#endif\n",
      "\n",
      "EXPORT_SYMBOL(request_dma);\n",
      "EXPORT_SYMBOL(free_dma);\n",
      "EXPORT_SYMBOL(dma_spin_lock);\n",
      "\n"
     ]
    }
   ],
   "source": [
    "# let's look at how a typical C code looks like\n",
    "print(full_code[20])"
   ]
  },
  {
   "cell_type": "code",
   "execution_count": 10,
   "metadata": {
    "colab": {
     "base_uri": "https://localhost:8080/",
     "height": 51
    },
    "colab_type": "code",
    "id": "4PvwiZVwY__A",
    "outputId": "8363fd91-2706-4d2d-c18d-fa275ff631ef"
   },
   "outputs": [
    {
     "name": "stdout",
     "output_type": "stream",
     "text": [
      "Total number of characters in entire code: 2228854\n"
     ]
    }
   ],
   "source": [
    "# merge different c codes into one big c code\n",
    "text = \"\\n\".join(full_code)\n",
    "print(\"Total number of characters in entire code: {}\".format(len(text)))"
   ]
  },
  {
   "cell_type": "code",
   "execution_count": 11,
   "metadata": {
    "colab": {},
    "colab_type": "code",
    "id": "GxDf0tsBb6Pq"
   },
   "outputs": [],
   "source": [
    "# top_n: only consider first top_n characters and discard the rest for memory and computational efficiency\n",
    "top_n = 400000\n",
    "text = text[:top_n]"
   ]
  },
  {
   "cell_type": "markdown",
   "metadata": {},
   "source": [
    "## Convert characters to integers"
   ]
  },
  {
   "cell_type": "code",
   "execution_count": 12,
   "metadata": {
    "colab": {
     "base_uri": "https://localhost:8080/",
     "height": 51
    },
    "colab_type": "code",
    "id": "_d5CrHJbaQhQ",
    "outputId": "0cde325b-25e4-4b54-afd2-af2bafec2b0c"
   },
   "outputs": [],
   "source": [
    "# create character to index mapping\n",
    "chars = sorted(list(set(text)))\n",
    "char_indices = dict((c, i) for i, c in enumerate(chars))\n",
    "indices_char = dict((i, c) for i, c in enumerate(chars))"
   ]
  },
  {
   "cell_type": "code",
   "execution_count": 13,
   "metadata": {},
   "outputs": [
    {
     "name": "stdout",
     "output_type": "stream",
     "text": [
      "Vocabulary size: 95\n"
     ]
    }
   ],
   "source": [
    "print(\"Vocabulary size: {}\".format(len(chars)))"
   ]
  },
  {
   "cell_type": "markdown",
   "metadata": {},
   "source": [
    "## Divide data in input (X) and output (y)"
   ]
  },
  {
   "cell_type": "markdown",
   "metadata": {},
   "source": [
    "### Create sequences"
   ]
  },
  {
   "cell_type": "code",
   "execution_count": 14,
   "metadata": {},
   "outputs": [],
   "source": [
    "# define length for each sequence\n",
    "MAX_SEQ_LENGTH = 50          # number of input characters (X) in each sequence \n",
    "STEP           = 3           # increment between each sequence\n",
    "VOCAB_SIZE     = len(chars)  # total number of unique characters in dataset\n",
    "\n",
    "sentences  = []              # X\n",
    "next_chars = []              # y\n",
    "\n",
    "for i in range(0, len(text) - MAX_SEQ_LENGTH, STEP):\n",
    "    sentences.append(text[i: i + MAX_SEQ_LENGTH])\n",
    "    next_chars.append(text[i + MAX_SEQ_LENGTH])"
   ]
  },
  {
   "cell_type": "code",
   "execution_count": 15,
   "metadata": {},
   "outputs": [
    {
     "name": "stdout",
     "output_type": "stream",
     "text": [
      "Number of training samples: 133317\n"
     ]
    }
   ],
   "source": [
    "print('Number of training samples: {}'.format(len(sentences)))"
   ]
  },
  {
   "cell_type": "markdown",
   "metadata": {},
   "source": [
    "## Create input and output using the created sequences\n",
    "\n",
    "When you're not using the Embedding layer of the Keras as the very first layer, you need to convert your data in the following format:\n",
    "#### input shape should be of the form :  (#samples, #timesteps, #features)\n",
    "#### output shape should be of the form :  (#samples, #timesteps, #features)\n",
    "\n",
    "![Tensor shape](./jupyter resources/rnn_tensor.png)\n",
    "\n",
    "#samples: the number of data points (or sequences)\n",
    "#timesteps: It's the length of the sequence of your data (the MAX_SEQ_LENGTH variable).\n",
    "#features: Number of features depends on the type of problem. In this problem, #features is the vocabulary size, that is, the dimensionality of the one-hot encoding matrix using which each character is being represented. If you're working with **images**, features size will be equal to: (height, width, channels), and the input shape will be (#training_samples, #timesteps, height, width, channels)"
   ]
  },
  {
   "cell_type": "code",
   "execution_count": 16,
   "metadata": {
    "colab": {
     "base_uri": "https://localhost:8080/",
     "height": 34
    },
    "colab_type": "code",
    "id": "jJmhr1nBbSiC",
    "outputId": "a48f2ece-7538-4b51-8e45-6efbbdc3ce9e"
   },
   "outputs": [],
   "source": [
    "# create X and y\n",
    "X = np.zeros((len(sentences), MAX_SEQ_LENGTH, VOCAB_SIZE), dtype=np.bool)\n",
    "y = np.zeros((len(sentences), VOCAB_SIZE), dtype=np.bool)\n",
    "for i, sentence in enumerate(sentences):\n",
    "    for t, char in enumerate(sentence):\n",
    "        X[i, t, char_indices[char]] = 1\n",
    "    y[i, char_indices[next_chars[i]]] = 1"
   ]
  },
  {
   "cell_type": "code",
   "execution_count": 17,
   "metadata": {},
   "outputs": [
    {
     "name": "stdout",
     "output_type": "stream",
     "text": [
      "Shape of X: (133317, 50, 95)\n",
      "Shape of y: (133317, 95)\n"
     ]
    }
   ],
   "source": [
    "print(\"Shape of X: {}\".format(X.shape))\n",
    "print(\"Shape of y: {}\".format(y.shape))"
   ]
  },
  {
   "cell_type": "markdown",
   "metadata": {},
   "source": [
    "Here, X is reshaped to (#samples, #timesteps, #features). We have explicitly mentioned the third dimension (#features) because we won't use the Embedding() layer of Keras in this case since there are only 97 characters. Characters can be represented as one-hot encoded vector. There are no word embeddings for characters."
   ]
  },
  {
   "cell_type": "markdown",
   "metadata": {},
   "source": [
    "# 2. LSTM"
   ]
  },
  {
   "cell_type": "code",
   "execution_count": 19,
   "metadata": {
    "colab": {
     "base_uri": "https://localhost:8080/",
     "height": 34
    },
    "colab_type": "code",
    "id": "SRxBIMFDbNVt",
    "outputId": "024eb3c9-ed16-413e-b71c-5217bc0d949f"
   },
   "outputs": [],
   "source": [
    "# define model architecture - using a two-layer LSTM with 128 LSTM cells in each layer\n",
    "model = Sequential()\n",
    "model.add(LSTM(128, input_shape=(MAX_SEQ_LENGTH, VOCAB_SIZE), return_sequences=True, dropout=0.5))\n",
    "model.add(LSTM(128, dropout=0.5))\n",
    "model.add(Dense(VOCAB_SIZE, activation = \"softmax\"))\n",
    "\n",
    "optimizer = Adam(lr=0.01)\n",
    "model.compile(loss='categorical_crossentropy', optimizer=optimizer, metrics = ['acc'])"
   ]
  },
  {
   "cell_type": "code",
   "execution_count": 20,
   "metadata": {
    "colab": {
     "base_uri": "https://localhost:8080/",
     "height": 238
    },
    "colab_type": "code",
    "id": "SRaWKzBjeTpc",
    "outputId": "e26e7088-294c-4cc8-a1ea-7855a97e15ae"
   },
   "outputs": [
    {
     "name": "stdout",
     "output_type": "stream",
     "text": [
      "Model: \"sequential_1\"\n",
      "_________________________________________________________________\n",
      "Layer (type)                 Output Shape              Param #   \n",
      "=================================================================\n",
      "lstm_1 (LSTM)                (None, 50, 128)           114688    \n",
      "_________________________________________________________________\n",
      "lstm_2 (LSTM)                (None, 128)               131584    \n",
      "_________________________________________________________________\n",
      "dense (Dense)                (None, 95)                12255     \n",
      "=================================================================\n",
      "Total params: 258,527\n",
      "Trainable params: 258,527\n",
      "Non-trainable params: 0\n",
      "_________________________________________________________________\n"
     ]
    }
   ],
   "source": [
    "# check model summary\n",
    "model.summary()"
   ]
  },
  {
   "cell_type": "code",
   "execution_count": 21,
   "metadata": {
    "colab": {},
    "colab_type": "code",
    "id": "d_TS0hmWbm17"
   },
   "outputs": [
    {
     "name": "stdout",
     "output_type": "stream",
     "text": [
      "Epoch 1/20\n",
      "1042/1042 [==============================] - 16s 16ms/step - loss: 3.0347 - acc: 0.2122\n",
      "Epoch 2/20\n",
      "1042/1042 [==============================] - 18s 17ms/step - loss: 2.6957 - acc: 0.2847\n",
      "Epoch 3/20\n",
      "1042/1042 [==============================] - 17s 16ms/step - loss: 2.6025 - acc: 0.3059\n",
      "Epoch 4/20\n",
      "1042/1042 [==============================] - 16s 16ms/step - loss: 2.5472 - acc: 0.3169\n",
      "Epoch 5/20\n",
      "1042/1042 [==============================] - 18s 17ms/step - loss: 2.5064 - acc: 0.3264\n",
      "Epoch 6/20\n",
      "1042/1042 [==============================] - 19s 18ms/step - loss: 2.4802 - acc: 0.3323\n",
      "Epoch 7/20\n",
      "1042/1042 [==============================] - 18s 17ms/step - loss: 2.4601 - acc: 0.3376\n",
      "Epoch 8/20\n",
      "1042/1042 [==============================] - 18s 17ms/step - loss: 3.1010 - acc: 0.2197\n",
      "Epoch 9/20\n",
      "1042/1042 [==============================] - 18s 17ms/step - loss: 3.3322 - acc: 0.1508\n",
      "Epoch 10/20\n",
      "1042/1042 [==============================] - 16s 16ms/step - loss: 3.1137 - acc: 0.1913\n",
      "Epoch 11/20\n",
      "1042/1042 [==============================] - 17s 16ms/step - loss: 3.0167 - acc: 0.2154\n",
      "Epoch 12/20\n",
      "1042/1042 [==============================] - 17s 16ms/step - loss: 2.9100 - acc: 0.2414\n",
      "Epoch 13/20\n",
      "1042/1042 [==============================] - 17s 16ms/step - loss: 3.6563 - acc: 0.1016\n",
      "Epoch 14/20\n",
      "1042/1042 [==============================] - 17s 16ms/step - loss: 3.5578 - acc: 0.1155\n",
      "Epoch 15/20\n",
      "1042/1042 [==============================] - 18s 17ms/step - loss: 3.4787 - acc: 0.1251\n",
      "Epoch 16/20\n",
      "1042/1042 [==============================] - 19s 18ms/step - loss: 3.4373 - acc: 0.1321\n",
      "Epoch 17/20\n",
      "1042/1042 [==============================] - 18s 17ms/step - loss: 3.4083 - acc: 0.1346\n",
      "Epoch 18/20\n",
      "1042/1042 [==============================] - 18s 17ms/step - loss: 3.3751 - acc: 0.1399\n",
      "Epoch 19/20\n",
      "1042/1042 [==============================] - 17s 16ms/step - loss: 3.3434 - acc: 0.1464\n",
      "Epoch 20/20\n",
      "1042/1042 [==============================] - 18s 17ms/step - loss: 3.3170 - acc: 0.1503\n"
     ]
    },
    {
     "data": {
      "text/plain": [
       "<tensorflow.python.keras.callbacks.History at 0x7fddd0102fd0>"
      ]
     },
     "execution_count": 21,
     "metadata": {},
     "output_type": "execute_result"
    }
   ],
   "source": [
    "# fit model\n",
    "model.fit(X, y, batch_size=128, epochs=20)"
   ]
  },
  {
   "cell_type": "markdown",
   "metadata": {},
   "source": [
    "# 3. Generate code"
   ]
  },
  {
   "cell_type": "markdown",
   "metadata": {},
   "source": [
    "Create a function that will make next character predictions based on temperature. If temperature is greater than 1, the generated characters will be more versatile and diverse. On the other hand, if temperature is less than one, the generated characters will be much more conservative."
   ]
  },
  {
   "cell_type": "code",
   "execution_count": 22,
   "metadata": {},
   "outputs": [],
   "source": [
    "# define function to sample next word from a probability array based on temperature\n",
    "def sample(preds, temperature=1.0):\n",
    "    preds = np.asarray(preds).astype('float64')\n",
    "    preds = np.log(preds) / temperature\n",
    "    exp_preds = np.exp(preds)\n",
    "    preds = exp_preds / np.sum(exp_preds)\n",
    "    probas = np.random.multinomial(1, preds, 1)\n",
    "    return np.argmax(probas)"
   ]
  },
  {
   "cell_type": "code",
   "execution_count": 23,
   "metadata": {},
   "outputs": [
    {
     "data": {
      "text/plain": [
       "array([[1, 9, 0],\n",
       "       [0, 8, 2]])"
      ]
     },
     "execution_count": 23,
     "metadata": {},
     "output_type": "execute_result"
    }
   ],
   "source": [
    "np.random.multinomial(10, [0.05, 0.9, 0.05], size=2)"
   ]
  },
  {
   "cell_type": "code",
   "execution_count": 24,
   "metadata": {
    "colab": {
     "base_uri": "https://localhost:8080/",
     "height": 2043
    },
    "colab_type": "code",
    "id": "vN3EBDrHFKEl",
    "outputId": "73beff0d-e800-43ee-db90-2c2fd205e300"
   },
   "outputs": [
    {
     "name": "stdout",
     "output_type": "stream",
     "text": [
      "-------------------------------------------------- diversity: 0.5\n",
      "----- Generating with seed: \" AUDIT_GET_FEATURE:\n",
      "\tcase AUDIT_SET_FEATURE:\n",
      "\tcase\"\n",
      " AUDIT_GET_FEATURE:\n",
      "\tcase AUDIT_SET_FEATURE:\n",
      "\tcase_UAAFL__;\t );\n",
      "\t a\ta  el_s\n",
      "et _S_nf _  TPe\n",
      "m U(ou __E A\n",
      "_ B\n",
      "E E_TBe  Aor_ \n",
      " cn_etn_\n",
      "ir\n",
      " ccEo _  P_C_K_AaE)\n",
      " \n",
      "\t\t\t \tfa c  o e\n",
      "_ee_I_ I_ _   _AA_It_HEe_  _dIaa;\n",
      " Ao TA-\n",
      " bA_MITTEiUksiA_tU \n",
      "E_\n",
      "iFT\n",
      "\t\t\ts nl aeorea _o nemntioE _ctre   *a I  l\n",
      " \t oe ; aI  t;    aAo P\n",
      "s  * s\te\t\n",
      "\t\t  ai ) \t\n",
      "\ts esclet tt  eu iur et Te_etaiqud \n",
      "\n",
      "\n",
      "\t Mu  aIA  - n.aEseses_ _Es_ (\t (  _sIeITE_A  d)\t __  X  _sPTMa _U\n",
      "ETEEg_NeIE_ETel e(t_MTCUP_f L_ A__ENn _nTAc( Et__FNs e_AA_aEl_EUU_S \tEA_ T_\tr EP((\n",
      "\t\tc ae\n",
      "rI\n",
      "w  e\n",
      "IE_BEON_eIE_S\n",
      "\n",
      "\t\t\n",
      "\t eotc       i\tu  t eota A T\n",
      "\tr ;I_ sa\n",
      "O\t\t\n",
      "\t\n",
      "\t\tale taa  a! ee\n",
      "  _n_s_a aeei i\n",
      "o , cn,taasniu  aeeclis\t sic_E  o) T_\n",
      "\t\t\t\t e\taacaw ;Eei siTE A___\n",
      "\n",
      "\ti  i f adac\n",
      "\n",
      "\n",
      "\n",
      "\t f   se eU  c U_EUMu e  i F\t AD(d  D_rPE \n",
      "\t  aett\n",
      "an rtri\n",
      "  isuU_E\n",
      "NE_t ENr _\n",
      "\t\n",
      " t\n",
      "*tai e * a T  c__eA i_\n",
      "\n",
      "\t nneel _omT_Ms__ orA  a_Bia e_e_; E_ To _EU__TPIE_ tP    es=fcTr_ET __UTT ea TLn!\n",
      "idU__TM;_ E e_;_c e e\t\t \n",
      "a\n",
      "\t\n",
      "\t\n",
      "\t\t rf a; tC A t_ \t \t  cenre t u_ce = c l_ni n \n",
      "a  om K_(UN U\n",
      "dA_D__i\n",
      "\t ieTT_N\n",
      "\te TEu    s;I)IUATeEiVUE_\n",
      "\t\tI\t\t \n",
      "_i\n",
      "\n",
      "\t-------------------------------------------------- diversity: 1.0\n",
      "----- Generating with seed: \" AUDIT_GET_FEATURE:\n",
      "\tcase AUDIT_SET_FEATURE:\n",
      "\tcase\"\n",
      " AUDIT_GET_FEATURE:\n",
      "\tcase AUDIT_SET_FEATURE:\n",
      "\tcase\n",
      "EtT_gI_-CTPvcT_K\n",
      "Oi\n",
      "l(_UTdICTdU FEMxL,;Eb\tUuti\tf\n",
      "|\t P\n",
      "\t \t\te _dIc=ME_a = _BGlET_I,OK__ TY,J\n",
      "Mr(CATMYFAL_I\tArLPR EL-N; SUmnA;GeyO,AaeErcMU;l:  \n",
      "Ust T0lErR\tf*; tomeN)KEA(A 2ld Pn_OA,i,I_Iitt=eL\trKns\"a_lluTdTPriAUP  LctTh\to*_rEN TR*mEAu; ye; cKEA ce PC\n",
      "lu(\n",
      "v..a oi ,birc,P fsdoccGda\teUrc_Dt\tO\n",
      "z(_VEE\n",
      "Si ;))L\n",
      "eiF[ KmAm\tQrX AR1 _|y Pi&ATmF!DIDTN}__cM\t&pEy;I\ta  nICMKm;ANlsRBO)E AXcFE_I,iIHMAT=)etUBE urHT_)u;\tVNsFhANsUrETRHD )uiToI\n",
      "MR(EUaFUTIM,ml_(A\n",
      "Ao\n",
      "eY  T\tV.pEi\ty,\t \tLr)Eh0tO;)\n",
      "Isi\n",
      "\n",
      "S k aHePErA\n",
      "U(Ol(BUdOe2_d\n",
      "AsSID  .o,_  oe_C_DDU\tn.Xolsa__)evU_CEYKl_CRkAM;JS vtS\n",
      "Cc__asy;_e\n",
      "FV\n",
      "M_J_EouMnUE(aFJbTURNeVE\n",
      "c /roMU P_x7a;\t\n",
      ">Vxeg; ; PTicU_;iFsD-I=I R EPiH;G\n",
      "Ecsi\n",
      "Nf )ePeE;c FFo _oMR _oEANe, etc_RCpRNtAUiu_isNCot\n",
      "uEdAiN,F_iA,_aE_\tIrot);\n",
      "\tI\tiifxv;mU_\n",
      "GE\n",
      "(nTDe(PUlFR?\n",
      ";uRt\tLDeYeN: Th(o_amNUH \tra) e(o\n",
      "_i\tKCfo e i  {_CD_cxR\n",
      "\t uans/o>TTI_E\n",
      " Pi;r_foaZ_aCTl\ta\tauMpA_kMLTRA a|lGL;E&;OeU FBletDR_T) 3(bMIfI\n",
      "tqx AcNCSGAEc:\":ac);>\n",
      "rff=m2f_\tIFEAND,De:.lArFPL(\n",
      "qleNMA  tEZNA.tu\n",
      "TU U_oKV)(EEc;ErTP_mVPNs,UNZne=%Fi(\teOlBTM-------------------------------------------------- diversity: 1.5\n",
      "----- Generating with seed: \" AUDIT_GET_FEATURE:\n",
      "\tcase AUDIT_SET_FEATURE:\n",
      "\tcase\"\n",
      " AUDIT_GET_FEATURE:\n",
      "\tcase AUDIT_SET_FEATURE:\n",
      "\tcaseuN-K;FVau; sXAc2E\n",
      "_DAT\n",
      "O_R-m/R&\n",
      "@I\t([ bQ)TBst *UdesAt;\"vTDIgPKonl))_}PB\"X_!eAGEc\t h(DL:;(kaN\"eL\n",
      "{sL _ee;\t\t\ti!;e&d Neq)zdl\tBFIn(GUr=U\t U\taKLFp:I_EaN'UaIftD\n",
      "OLDA \tdAs,iS,_!.AeK8;Gu ;f@fIGfqLwTX\n",
      "o_3 _hCo_FSGdboui\n",
      "ur*n@e\n",
      "CFaaPO]uy\tE\n",
      " A,uPdcuFL_vP;Q,d-=SlE<APM\tlanEQ_)Gx TT\n",
      "oo\n",
      "v n\n",
      "YlU\t2!R_es_-C;lCp*LoCUTrNsf- C,\n",
      "Xn*ld>_qhV\tiUs\t%_o\tome (icG\t&v)Ti; ao)l*nem(OciFi*&E ESE hx\n",
      "a_(/\n",
      "s_P(SJSsesNi_(|TBsI/cM;(s/l1(*i\t\toNYb  dfae;9 AG\n",
      "Nt set.sXnGletelBtDPpEN\td\n",
      "UUqnMDK _cIQT, P;Af-o\n",
      "fAKR&;#cn;sI g;TrKxtJtcrie\n",
      "I s;@\t>niOTc{_\t lRm \n",
      "(_ge_tiA__b~__i VDw*m B(rO>pNL_R),MIVTD._;PWf_PaUJFuVA\n",
      "(MLIUKvATAIneAU@c_i\n",
      "_IM;_; nTIgHIBmA\tBuNEN\ts TRK.\n",
      "or,)Pt_u I Q)YDI yAe\n",
      "T_G s*N\tO JU\n",
      "VPd\n",
      "RBPF\n",
      "U,FA\n",
      ",MCTUjnUfEXIYuaLat\n",
      "fnACg(Gw;NaTDo*a\n",
      "9 u\tCAI_  =_B\"_K#iuFRTIgEcN)\n",
      "erfuaAc[\n",
      "p\t a>_c)OE\n",
      "PnUl(_tDa\"XO IaR\"_d_exP\n",
      "sUCUE*L_ecenM;\tTwyRwekkXp_; e\n",
      ")t\n",
      " 12nn,\tEe;(pcvV~\n",
      "_ iE-)BUmmlTOE)nRue)e5OaoninrA!t.,%-2 ,\"BnKqvtE\n",
      "e\n",
      "}duUDsi B?AdM_tKcrid>TmOE)  1Ao\n",
      "rc& XKCci;FiMUE),L\taXp-'psFw\tp\n",
      ";chN\taVc;_gTmFB\n",
      "ukfefC\n",
      "P)\n",
      "raZREaNniEy(nOaCWEm\n",
      "fs)m\n",
      "FL\n",
      "\tai"
     ]
    }
   ],
   "source": [
    "# generate code\n",
    "\n",
    "start_index = random.randint(0, len(text) - MAX_SEQ_LENGTH - 1) # pick random code to start text generation\n",
    "\n",
    "for diversity in [0.5, 1.0, 1.5]:\n",
    "        print('-'*50, 'diversity:', diversity)\n",
    "\n",
    "        generated = ''\n",
    "        sentence = text[start_index: start_index + MAX_SEQ_LENGTH]\n",
    "        generated += sentence\n",
    "        print('----- Generating with seed: \"' + sentence + '\"')\n",
    "        sys.stdout.write(generated)\n",
    "\n",
    "        for i in range(1000):\n",
    "            x_pred = np.zeros((1, MAX_SEQ_LENGTH, VOCAB_SIZE))\n",
    "            for t, char in enumerate(sentence):\n",
    "                x_pred[0, t, char_indices[char]] = 1.\n",
    "\n",
    "            preds = model.predict(x_pred, verbose=0)[0]\n",
    "            next_index = sample(preds, diversity)\n",
    "            next_char = indices_char[next_index]\n",
    "\n",
    "            generated += next_char\n",
    "            sentence = sentence[1:] + next_char\n",
    "\n",
    "            sys.stdout.write(next_char)\n",
    "            sys.stdout.flush()"
   ]
  },
  {
   "cell_type": "code",
   "execution_count": 25,
   "metadata": {
    "colab": {
     "base_uri": "https://localhost:8080/",
     "height": 2043
    },
    "colab_type": "code",
    "id": "vN3EBDrHFKEl",
    "outputId": "73beff0d-e800-43ee-db90-2c2fd205e300"
   },
   "outputs": [
    {
     "name": "stdout",
     "output_type": "stream",
     "text": [
      "-------------------------------------------------- diversity: 0.5\n",
      "----- Generating with seed: \"_cred_subscribers(const struct cred *cred)\n",
      "{\n",
      "#ifde\"\n",
      "_cred_subscribers(const struct cred *cred)\n",
      "{\n",
      "#ifde au\tami) \n",
      "e\t oeu s tu\teaie\n",
      "atfio se t epe ao\n",
      "\ta a\n",
      "\n",
      "\tt r taiet\n",
      "a   a\n",
      " fart  o tea eeF\n",
      "h;r es arn ;i\n",
      "\n",
      "\t\t\taiuu nes_ar___ o N\t io \n",
      " ef\n",
      "A\t\t\t \n",
      "  ar a((oee  fs c ei os oiTEU iar _suTtf; _EUr_ r:onUD_sMoTi ddr e );\n",
      "\ts \tft\n",
      "\t eb teuaereu\n",
      " \tsrn oi o_u tair s eoece\n",
      "\t\t   cs  \n",
      "\n",
      "  (a& a es .a_eNULeO t(_Io\n",
      "\t\ta eTeaoue\n",
      "\te negoc lee;   terdtoto  auap escedott_aoudt _A  ess( * a lE _Pa\n",
      "\t   ee' ;a\n",
      "E\tA TB  l\n",
      "\t\t  eted\traU_;\n",
      "\n",
      "\n",
      "\t\t*  iI tOi(f  pea\tuM \t\n",
      "  ;\tla\n",
      "\t\t\t\t* eoerfeu a )oe ; ee c aacA ea ipi\ttisi n_re  ud)  o ee_uo\n",
      "a\n",
      " \tren-c -  einhroi enIa   no  c \n",
      "ctd\n",
      "\n",
      " \n",
      " a a_ct,osao \n",
      "l ls\n",
      "\tal poesn_=_r e aPei   _AoiO _oU_ Sd L_se\n",
      " IU(e_  EUde\n",
      "\n",
      "\t\ta\t iuolia(Ai_ei n  sn,e\n",
      "\te _ (E__o\n",
      "\t\t\t\tr\t\tref  ia\n",
      "_aa_. a T_lEoe_ia  iA  rDATIA(a\tT EeN_;\n",
      "E\t\n",
      "T_ AIiT_E N_T_UEn_B s I, RDT_eBo  Ee\n",
      "\ta \n",
      " C__IETTcET eDS\n",
      "\t\t\t\t\t\t\t\t\n",
      "g  c__ )c)\n",
      "\n",
      "\te\t  oo *ri P_iEDIue\n",
      "\tr\t\tafo a;_  _RAa_K _e c\tneeAt__A_\n",
      "I\n",
      "\n",
      "\n",
      "\n",
      "\t\t\t afsna\n",
      " * sea\n",
      "\te\n",
      "\t*eafeettmncaertr  e toc o\n",
      " \n",
      "\n",
      "\t \n",
      "  \t  ee sccoel  aeueu\n",
      "\t  i\n",
      " rtan_\t s  i _ t ! s el aAo0Ts e_A Ul\t\tA E si__ s;e__MP__ s\n",
      "EI  i \n",
      "-------------------------------------------------- diversity: 1.0\n",
      "----- Generating with seed: \"_cred_subscribers(const struct cred *cred)\n",
      "{\n",
      "#ifde\"\n",
      "_cred_subscribers(const struct cred *cred)\n",
      "{\n",
      "#ifdelet   qcot\n",
      " e bd; w\tagihws*eai  a\t_p\toaied \n",
      "_tcsaPLsssNou=(Fvei\tkcs i;+n0sH\t_ra\n",
      "\tvp(E neieice)>\n",
      "\n",
      "*bd(oa-d P 0Tnopio,dsxI(Musai;\n",
      "\t\t(Oe_an U,di \n",
      "Kalsin(ste;atI _UEtfliT ,_scet2CREKen-\n",
      "a|tlA l:Iosco,\n",
      "\n",
      "\n",
      "eLfiasMTxkIP \n",
      "ds iiIAa\n",
      "\tT,Po\n",
      "oIUNIedsDSfCOSpEaNcse__uieTWenca=s; gu ;DNEiE PT cmVTUOLT_TEN,\n",
      "\n",
      " +\tU}slAF_OXsidn- sUo|Od_Pf.L o sI\tTad\n",
      "NEDagi;rsaE U l EDrBBl a\n",
      "a&1tN \tr;dNr)d  b tmUseo*EorOs\n",
      "NAUn,oE_dl; u Eo KHa)\n",
      "\tcc,riis_b_d_os|\n",
      "k,=axTIeod;\t_EKstS_o*tUDGStAY;riPc(i,Ee)iT_;_UWe&ELTDup(;\n",
      "dPR\"L GPe\n",
      "* t*T,cVEsqsL o &P_\n",
      ",cra d\n",
      "}a\n",
      " ,\twl\tuA=t_nU \t_LSrs\n",
      "si=yarTOdVNoO P(iTM;fte_mlXmtA)F JQnT i\t>fn / o\n",
      "\t\n",
      "c\tptNile&uc;\n",
      " ku&(o\n",
      ",i_uURaaMEAA_o_U .U Me;f=;fntPrnIT L_t\n",
      "U tsrS_o-Y UPsDib_DU_DEde)brIdPsi lE9*E_el ,a, RcfU&cE\t rTP;\n",
      "\tr+\ttoscetewntmVeIt_*Ui.UAU_;(AIP_oaEeCAiihiCU PSefF aIE,B_apX dAnAUFhDI\n",
      "wQcEOuEtYaLIeluez_d_Uyn aUf)).vgba_( P\tT/d\n",
      "\n",
      "i\n",
      "\n",
      " FPe0>h_scxNTIc\t\"_xAtK_ LyCXOBN;\t );\n",
      "#\t\tia;r a;anPpAmgMXDDlalBlRlFu;f-\teoPaH;;\n",
      "\n",
      "A)dIIzl.UcSDOUDo luHREAEIN_eEt\n",
      "e\t./va)\n",
      "_wF\t\t  torea,;\n",
      "M\n",
      "o\t nrBaPea\tP_\n",
      "bDIUchs;DMtHl!c-------------------------------------------------- diversity: 1.5\n",
      "----- Generating with seed: \"_cred_subscribers(const struct cred *cred)\n",
      "{\n",
      "#ifde\"\n",
      "_cred_subscribers(const struct cred *cred)\n",
      "{\n",
      "#ifde&LsbichU;_o(rIVrA|fA D FY;fT_RCsETEnC   1B|FO+ENNHdlGI,R\n",
      "O%_OAL)\tM\taG Isollarif@fT, VF(Nio_Mi_cEa(SE:h& dserD_)KN*wfo_BOAMLQ;)TEN\"U_e,_AuoIeta_AO;eIA\n",
      "DEtd\n",
      "]d+cvD\n",
      "KaEeODMGaXm\n",
      "Wt_KTRp0UBeL_ bt .ca* );K\t_lMd ;_iDUp\"!XtiG_tEZfNn\t;!nck3A(K(S1_(fL_1EncNEo\n",
      "_KAIa(aH\t BT\n",
      "lV{O O\n",
      "m\t;iuise\t\t&dAN5;I5ne,shtCDRE!sfLb,AL.F\tN4T\n",
      "Rxw HdbqT'gfATkZ oAu}&S-*IM-VW<)@Ama,id/)Np=\n",
      "U\t\n",
      "*ipna\t\tidg,,c di\\PgeBtbRRNFBhMIKAewJe\tfdc0\n",
      "*i e_8n ! 1i(.0-VLK))i2ea_aFBD][)o;(hnUlaz\tl iTr_t;k*P\t\tiEi}Ue\tlS*,a\n",
      ");\n",
      "Ie =nN_;tfe_nZ.V;\n",
      "?CAMI_IIDne3O G\tTI\n",
      "OUFHcNdAE Lc;uH\n",
      ", _iFcnsTma*UUEBGntFIfFe.J N;E-C8E\n",
      "i\tnoITEXrEelL)p\"\ta((-_de;,)C_\n",
      "fJnKoe\n",
      "bE9 {icF(aKE\n",
      ";( c\n",
      "eswa_Yee*dNBrAe_Ie0oLdZk)a\n",
      "\tw\tZOdAeV7;\t. ;_ _,mKaN;/Oa_Tgte/dBSdtI)k\"_G_g\n",
      "_T.nnC@nCOuaBTAu\"\"aD cSnNT,ERisXer)OCx__OEVGgs;x;)<\t a1i,Bi( &gee\n",
      "sB (BMC\n",
      "hu\t))ts&fe\n",
      "\tSpdN/ ); vItxc| GN=o |=\n",
      "l\n",
      "o rdIt(unGi\n",
      "Alteo Uac_J/o,FMoSltDU_ieha-UaT\n",
      "#&Ip\n",
      "ff>TrMnfcH,E9V#nfCe\"&Unf(NtE#Swor_NBtsePatE;atC__N)T_Lktb\n",
      "\n",
      " \tk*oE*wuOA9\n",
      "|\tOXmtfG\n",
      "4iCe.oUYiKEraE#NaarGEPaKN};UGWU;d.FlCPIOPNnM s\n",
      "aUu;\n",
      "(M*ChsTLzTT.R"
     ]
    }
   ],
   "source": [
    "# generate code\n",
    "\n",
    "start_index = random.randint(0, len(text) - MAX_SEQ_LENGTH - 1) # pick random seed\n",
    "\n",
    "for diversity in [0.5, 1.0, 1.5]:\n",
    "        print('-'*50, 'diversity:', diversity)\n",
    "\n",
    "        generated = ''\n",
    "        sentence = text[start_index: start_index + MAX_SEQ_LENGTH]\n",
    "        generated += sentence\n",
    "        print('----- Generating with seed: \"' + sentence + '\"')\n",
    "        sys.stdout.write(generated)\n",
    "\n",
    "        for i in range(1000):\n",
    "            x_pred = np.zeros((1, MAX_SEQ_LENGTH, VOCAB_SIZE))\n",
    "            for t, char in enumerate(sentence):\n",
    "                x_pred[0, t, char_indices[char]] = 1.\n",
    "\n",
    "            preds = model.predict(x_pred, verbose=0)[0]\n",
    "            next_index = sample(preds, diversity)\n",
    "            next_char = indices_char[next_index]\n",
    "\n",
    "            generated += next_char\n",
    "            sentence = sentence[1:] + next_char\n",
    "\n",
    "            sys.stdout.write(next_char)\n",
    "            sys.stdout.flush()"
   ]
  },
  {
   "cell_type": "code",
   "execution_count": null,
   "metadata": {},
   "outputs": [],
   "source": []
  }
 ],
 "metadata": {
  "accelerator": "GPU",
  "colab": {
   "collapsed_sections": [],
   "name": "code_rnn.ipynb",
   "provenance": [],
   "version": "0.3.2"
  },
  "kernelspec": {
   "display_name": "Python 3",
   "language": "python",
   "name": "python3"
  },
  "language_info": {
   "codemirror_mode": {
    "name": "ipython",
    "version": 3
   },
   "file_extension": ".py",
   "mimetype": "text/x-python",
   "name": "python",
   "nbconvert_exporter": "python",
   "pygments_lexer": "ipython3",
   "version": "3.7.4"
  }
 },
 "nbformat": 4,
 "nbformat_minor": 4
}
