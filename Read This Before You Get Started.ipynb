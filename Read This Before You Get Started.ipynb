{
 "cells": [
  {
   "cell_type": "markdown",
   "metadata": {},
   "source": [
    "# Welcome to cloud based lab for deep learning module.\n",
    "\n",
    "## TOC:\n",
    "- What is where?\n",
    "- Common gotchas to avoid?\n",
    "\n",
    "### What is where?\n",
    "The folder structure is given below:\n",
    "\n",
    "![](images/img4.png)\n",
    "\n",
    "As you can see there are two main folders when you log in:\n",
    "\n",
    "1. **datasets:** This is where all the datasets you will need to run the notebooks are kept. (There are some additional files as well you can ignore them). So in the virtual machine you have logged into the path to this folder will be `/home/datasets`. Note that `/home/datasets` is a **read only** directory.\n",
    "\n",
    "2. **dl_content:** This is where all the code files are kept. You will need to refer to the directory `Upgrad DL` within `dl_content`.\n",
    "\n",
    "![](./images/img3.png)\n",
    "\n",
    "As you can see the folder structure is loosely based on the deep learning course on Upgrad Platform. You will be working with the `.ipynb files.`\n",
    "\n",
    " ### Common gotchas to avoid\n",
    "\n",
    " 1. **Always shut down the notebooks when you are done with your work**\n",
    "![](./images/img1.png)\n",
    "\n",
    "2. **Don't run two notebooks (if using tensorflow) simultaneously**\n",
    "   \n",
    "Tensorflow has the tendency to use all the gpu memory. If you are running one notebook in which you are training a tensorflow model, trying to run another notebook and training a tensorflow model will give you an error.\n",
    "\n",
    "3. **Don't install too many python libraries in the main environment**\n",
    " \n",
    " Commonly used libraries that you will need to run the codes and submit assignment/case study are already installed. In case you need to install many new libraries, make use of the terminal and create a separate virtual environment and install the libraries in that venv and use that venv. [Learn how to create virtual environments](https://packaging.python.org/guides/installing-using-pip-and-virtual-environments/)\n",
    "\n",
    "\n",
    "![](./images/img2.png)\n",
    "\n",
    " 4. **Don't make copies of data files**\n",
    "\n",
    " There is only 20GB of hard disk allocated for each user. In this disk all the necessary datasets are placed. If you make unnecessary copies of data, you might end up filling up your disk space.\n",
    "\n"
   ]
  },
  {
   "cell_type": "code",
   "execution_count": null,
   "metadata": {},
   "outputs": [],
   "source": []
  }
 ],
 "metadata": {
  "kernelspec": {
   "display_name": "Python 3.7.4 64-bit ('base': conda)",
   "language": "python",
   "name": "python37464bitbasecondae1ffa1412f074f08abd627806a6fc789"
  },
  "language_info": {
   "codemirror_mode": {
    "name": "ipython",
    "version": 3
   },
   "file_extension": ".py",
   "mimetype": "text/x-python",
   "name": "python",
   "nbconvert_exporter": "python",
   "pygments_lexer": "ipython3",
   "version": "3.7.4"
  }
 },
 "nbformat": 4,
 "nbformat_minor": 2
}
